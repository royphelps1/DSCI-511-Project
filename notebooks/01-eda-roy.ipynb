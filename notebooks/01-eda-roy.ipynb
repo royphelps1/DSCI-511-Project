{
 "cells": [
  {
   "cell_type": "markdown",
   "id": "89b006bb",
   "metadata": {},
   "source": [
    "# 01 – EDA (Roy)\n",
    "\n",
    "This starter notebook shows the repo conventions:\n",
    "- import from `src/`\n",
    "- read data from `data/raw/`\n",
    "- write figures to `reports/figures/`\n"
   ]
  },
  {
   "cell_type": "code",
   "execution_count": null,
   "id": "d6f496b1",
   "metadata": {},
   "outputs": [],
   "source": [
    "import sys, os\n",
    "from pathlib import Path\n",
    "\n",
    "# Make src importable\n",
    "PROJECT_ROOT = Path(__file__).resolve().parents[1]\n",
    "sys.path.append(str(PROJECT_ROOT))\n",
    "\n",
    "from src.utils.io import load_csv\n",
    "from src.utils.viz import save_fig\n",
    "\n",
    "import pandas as pd\n",
    "import matplotlib.pyplot as plt\n"
   ]
  },
  {
   "cell_type": "markdown",
   "id": "a12ff916",
   "metadata": {},
   "source": [
    "## Load a sample dataset\n",
    "\n",
    "> Put a small CSV in `data/raw/` (gitignored). Below is an example call; update the filename as needed."
   ]
  },
  {
   "cell_type": "code",
   "execution_count": null,
   "id": "a1128f6b",
   "metadata": {},
   "outputs": [],
   "source": [
    "csv_path = PROJECT_ROOT / 'data' / 'raw' / 'sample_data.csv'  # replace with real file\n",
    "# df = load_csv(csv_path)\n",
    "# df.head()"
   ]
  },
  {
   "cell_type": "markdown",
   "id": "2e050a2e",
   "metadata": {},
   "source": [
    "## Quick plot example"
   ]
  },
  {
   "cell_type": "code",
   "execution_count": null,
   "id": "2b16bda5",
   "metadata": {},
   "outputs": [],
   "source": [
    "fig, ax = plt.subplots()\n",
    "ax.plot([1,2,3], [1,4,9])\n",
    "ax.set_title('Example Figure')\n",
    "# save_fig(fig, PROJECT_ROOT / 'reports' / 'figures' / 'example.png')\n",
    "plt.show()"
   ]
  },
  {
   "cell_type": "markdown",
   "id": "2cd713ad",
   "metadata": {},
   "source": [
    "> Tip: install nbstripout to keep notebook diffs small:\n",
    "```\n",
    "nbstripout --install\n",
    "```"
   ]
  }
 ],
 "metadata": {},
 "nbformat": 4,
 "nbformat_minor": 5
}
